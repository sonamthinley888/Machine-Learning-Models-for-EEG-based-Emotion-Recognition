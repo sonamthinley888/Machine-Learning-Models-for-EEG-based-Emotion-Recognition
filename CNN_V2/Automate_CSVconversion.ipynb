{
 "cells": [
  {
   "cell_type": "code",
   "execution_count": 21,
   "id": "cc6c1411",
   "metadata": {},
   "outputs": [],
   "source": [
    "import os\n",
    "import mne \n",
    "import pandas as pd\n",
    "from tqdm import tqdm\n",
    "import shutil\n",
    "from sklearn.model_selection import train_test_split"
   ]
  },
  {
   "cell_type": "code",
   "execution_count": 3,
   "id": "ee9f48a5",
   "metadata": {},
   "outputs": [
    {
     "name": "stdout",
     "output_type": "stream",
     "text": [
      "Current working directory: C:\\Users\\sonam\\University of Canberra\\4th Semester\\Capstone\\Models\\CCN_V2\n"
     ]
    }
   ],
   "source": [
    "cwd = os.getcwd() \n",
    "print(\"Current working directory:\", cwd) "
   ]
  },
  {
   "cell_type": "code",
   "execution_count": 39,
   "id": "bce67a33",
   "metadata": {},
   "outputs": [],
   "source": [
    "## Creating Folders\n",
    "# Define input and output directories\n",
    "input_dir = \"session_1_all_time_updated\"\n",
    "output_dir = \"CSV_labelled_folder\"\n",
    "\n",
    "# Create output directory if it doesn't exist\n",
    "os.makedirs(output_dir, exist_ok=True)\n",
    "\n",
    "sub_folders = [\"Train\", \"Test\", \"Val\"]\n",
    "emotions = [\"Neutral\", \"Sad\", \"Fear\", \"Happy\"]\n",
    "\n",
    "# Define participants and sessions\n",
    "participants = ['cz', 'ha', 'hql', 'ldy', 'ly', 'mhw', 'mz', 'qyt', 'rx', 'tyc', 'whh', 'wll', 'wq', 'zjd', 'zjy']\n",
    "\n",
    "for folder in sub_folders:\n",
    "    folder_path = os.path.join(output_dir, folder)\n",
    "    #print(folder_path)\n",
    "    os.makedirs(folder_path, exist_ok=True)\n",
    "    for emotion in emotions:\n",
    "        emo_path = os.path.join(folder_path, emotion)\n",
    "        #print(emo_path)\n",
    "        os.makedirs(emo_path, exist_ok=True)"
   ]
  },
  {
   "cell_type": "code",
   "execution_count": 47,
   "id": "22763c8f",
   "metadata": {},
   "outputs": [
    {
     "name": "stdout",
     "output_type": "stream",
     "text": [
      "360\n",
      "120\n"
     ]
    }
   ],
   "source": [
    "df = pd.read_csv(r\"C:\\Users\\sonam\\University of Canberra\\4th Semester\\Capstone\\Models\\CCN_V2\\Session_1_labels.csv\")\n",
    "#print(list['filename'])\n",
    "\n",
    "num_rows = len(df)\n",
    "print(num_rows)\n",
    "# Shuffle the DataFrame rows randomly\n",
    "df_shuffled = df.sample(frac=1, random_state=42)  # You can change the random_state for different shuffling\n",
    "\n",
    "# Determine the length of each set\n",
    "num_rows = len(df_shuffled)\n",
    "set_size = num_rows // 3  # Divide the DataFrame into three equal parts\n",
    "\n",
    "# Split the DataFrame into three sets\n",
    "set1 = df_shuffled.iloc[:set_size]\n",
    "set2 = df_shuffled.iloc[set_size:set_size*2]\n",
    "set3 = df_shuffled.iloc[set_size*2:]\n",
    "\n",
    "sets = [\"set1\", \"set2\", \"set3\"]\n",
    "print(len(set1))\n",
    "# Seggregating data into folders\n",
    "\n",
    "\n",
    "    \n",
    "def createSubFolder(df, folder):\n",
    "    for index, row in df.iterrows():\n",
    "        #print(row[\"filename\"], row[\"emotion\"])\n",
    "        if row[\"emotion\"] == 0:\n",
    "            output_folder = os.path.join(output_dir, folder, \"Neutral\")\n",
    "            src_dir = os.path.join(input_dir,row[\"filename\"])\n",
    "            shutil.copy2(src_dir, output_folder)\n",
    "        if row[\"emotion\"] == 1:\n",
    "            output_folder = os.path.join(output_dir, folder, \"Sad\")\n",
    "            src_dir = os.path.join(input_dir, row[\"filename\"])\n",
    "            shutil.copy2(src_dir, output_folder)\n",
    "        if row[\"emotion\"] == 2:\n",
    "            output_folder = os.path.join(output_dir, folder, \"Fear\")\n",
    "            src_dir = os.path.join(input_dir, row[\"filename\"])\n",
    "            shutil.copy2(src_dir, output_folder)\n",
    "        if row[\"emotion\"] == 3:\n",
    "            output_folder = os.path.join(output_dir, folder, \"Happy\")\n",
    "            src_dir = os.path.join(input_dir, row[\"filename\"])\n",
    "            shutil.copy2(src_dir, output_folder)\n",
    "\n",
    "\n",
    "createSubFolder(set1, \"Train\")\n",
    "createSubFolder(set2, \"Test\")\n",
    "createSubFolder(set3, \"Val\")\n",
    "        \n",
    "\n",
    "# # Iterate through each session and participant\n",
    "# for i in tqdm(list):\n",
    "#     _dir = os.path.join(input_dir, session)\n",
    "    \n",
    "#     for participant in participants:\n",
    "#         participant_dir = os.path.join(session_dir, participant)\n",
    "        \n",
    "#         # Iterate through all EEG files for the participant\n",
    "#         for file_number in range(1, 25):  # Assuming files are named from 1 to 24\n",
    "#             eeg_file = f\"{participant}_eeg{file_number}.fif\"\n",
    "#             eeg_path = os.path.join(participant_dir, eeg_file)\n",
    "#             if os.path.exists(eeg_path):\n",
    "#                 # Load raw data\n",
    "#                 raw = mne.io.read_raw_fif(eeg_path, preload=True)\n",
    "                \n",
    "#                 # Convert to DataFrame\n",
    "#                 df = raw.to_data_frame()\n",
    "\n",
    "#                 # Create output participant directory if it doesn't exist\n",
    "#                 output_participant_dir = os.path.join(output_dir, session, participant)\n",
    "#                 os.makedirs(output_participant_dir, exist_ok=True)\n",
    "\n",
    "#                 # Convert DataFrame to CSV file\n",
    "#                 output_csv = os.path.join(output_participant_dir, f\"{participant}_eeg_data_{file_number}.csv\")\n",
    "#                 df.to_csv(output_csv, index=False)\n",
    "\n",
    "#                 print(f\"Preprocessed and saved {eeg_file}\")\n",
    "#             else:\n",
    "#                 print(f\"File {eeg_file} not found.\")"
   ]
  },
  {
   "cell_type": "code",
   "execution_count": null,
   "id": "45c6b240",
   "metadata": {},
   "outputs": [],
   "source": []
  },
  {
   "cell_type": "code",
   "execution_count": null,
   "id": "3ca87a1e",
   "metadata": {},
   "outputs": [],
   "source": []
  }
 ],
 "metadata": {
  "kernelspec": {
   "display_name": "Python 3 (ipykernel)",
   "language": "python",
   "name": "python3"
  },
  "language_info": {
   "codemirror_mode": {
    "name": "ipython",
    "version": 3
   },
   "file_extension": ".py",
   "mimetype": "text/x-python",
   "name": "python",
   "nbconvert_exporter": "python",
   "pygments_lexer": "ipython3",
   "version": "3.11.8"
  }
 },
 "nbformat": 4,
 "nbformat_minor": 5
}
